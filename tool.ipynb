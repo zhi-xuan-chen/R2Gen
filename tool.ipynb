{
 "cells": [
  {
   "cell_type": "code",
   "execution_count": 1,
   "metadata": {},
   "outputs": [
    {
     "name": "stdout",
     "output_type": "stream",
     "text": [
      "在 GPU 5 上占用了 5000MB 的显存。\n"
     ]
    }
   ],
   "source": [
    "import json\n",
    "\n",
    "def parse_json_file(file_path):\n",
    "    with open(file_path, 'r') as file:\n",
    "        data = json.load(file)\n",
    "    \n",
    "    # 打印整个JSON结构\n",
    "    print(json.dumps(data, indent=4))\n",
    "\n",
    "    # 进行其他操作，例如提取特定字段、遍历数据等\n",
    "\n",
    "# 替换为你的JSON文件路径\n",
    "json_file_path = '/home/chenzhixuan/Workspace/R2Gen/data/iu_xray/annotation.json'\n",
    "\n",
    "parse_json_file(json_file_path)"
   ]
  }
 ],
 "metadata": {
  "kernelspec": {
   "display_name": "r2gen",
   "language": "python",
   "name": "python3"
  },
  "language_info": {
   "codemirror_mode": {
    "name": "ipython",
    "version": 3
   },
   "file_extension": ".py",
   "mimetype": "text/x-python",
   "name": "python",
   "nbconvert_exporter": "python",
   "pygments_lexer": "ipython3",
   "version": "3.9.18"
  }
 },
 "nbformat": 4,
 "nbformat_minor": 2
}
