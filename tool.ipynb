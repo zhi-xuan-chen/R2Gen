{
 "cells": [
  {
   "cell_type": "code",
   "execution_count": null,
   "metadata": {},
   "outputs": [],
   "source": [
    "import json\n",
    "\n",
    "def parse_json_file(file_path):\n",
    "    with open(file_path, 'r') as file:\n",
    "        data = json.load(file)\n",
    "    \n",
    "    # 打印整个JSON结构\n",
    "    print(json.dumps(data, indent=4))\n",
    "\n",
    "    # 进行其他操作，例如提取特定字段、遍历数据等\n",
    "\n",
    "# 替换为你的JSON文件路径\n",
    "json_file_path = '/home/chenzhixuan/Workspace/R2Gen/data/iu_xray/annotation.json'\n",
    "\n",
    "parse_json_file(json_file_path)"
   ]
  },
  {
   "cell_type": "markdown",
   "metadata": {},
   "source": [
    "# 统计数据集元素个数"
   ]
  },
  {
   "cell_type": "code",
   "execution_count": null,
   "metadata": {},
   "outputs": [],
   "source": [
    "import json\n",
    "\n",
    "def count_elements_in_json(json_file_path):\n",
    "    with open(json_file_path, 'r') as file:\n",
    "        data = json.load(file)\n",
    "        train_count = len(data['train'])\n",
    "        val_count = len(data['val'])\n",
    "        test_count = len(data['test'])\n",
    "    return train_count, val_count, test_count\n",
    "\n",
    "json_file_path = '/jhcnas1/chenzhixuan/mimic-cxr-jpg/annotation.json'\n",
    "train_count, val_count, test_count = count_elements_in_json(json_file_path)\n",
    "print('train_count: ', train_count)\n",
    "print('val_count: ', val_count)\n",
    "print('test_count: ', test_count)"
   ]
  },
  {
   "cell_type": "markdown",
   "metadata": {},
   "source": [
    "# 测试DataParallel"
   ]
  },
  {
   "cell_type": "code",
   "execution_count": null,
   "metadata": {},
   "outputs": [],
   "source": [
    "import torch\n",
    "import torch.nn as nn\n",
    "import torch.optim as optim\n",
    "from torch.nn import DataParallel\n",
    "from torch.utils.data import DataLoader\n",
    "import torchvision.models as models\n",
    "import os\n",
    "os.environ[\"CUDA_VISIBLE_DEVICES\"] = \"0,1\"\n",
    "\n",
    "# 1. 定义模型\n",
    "class Child_MyModel(nn.Module):\n",
    "    def __init__(self):\n",
    "        super(Child_MyModel, self).__init__()\n",
    "        self.fc = nn.Linear(10, 1)\n",
    "\n",
    "    def forward(self, x, y):\n",
    "        return self.fc(x+y)\n",
    "\n",
    "class MyModel(nn.Module):\n",
    "    def __init__(self):\n",
    "        super(MyModel, self).__init__()\n",
    "        self.fc = nn.Linear(10, 1)\n",
    "        self.model = models.resnet50(pretrained=True)\n",
    "\n",
    "    def forward(self, x):\n",
    "        return self.model(x)\n",
    "\n",
    "# 2. 封装模型\n",
    "device_ids = [0, 1]  # 使用编号为 0 和 1 的 GPU 设备\n",
    "model = MyModel()\n",
    "model.cuda()\n",
    "model = DataParallel(model, device_ids=device_ids)\n",
    "\n",
    "# 4. 定义损失函数和优化器\n",
    "criterion = nn.MSELoss()\n",
    "optimizer = optim.SGD(model.parameters(), lr=0.01)\n",
    "\n",
    "# 5. 训练模型\n",
    "for epoch in range(10):  # 迭代 10 次\n",
    "    for i in range(100):  # 每次迭代有 100 个批次\n",
    "        # 生成随机输入数据和标签\n",
    "        inputs = torch.randn(2, 3, 224, 224).to('cuda:0')  # 假设每个批次有 32 个样本，每个样本是 3x224x224 的图像\n",
    "        labels = torch.randn(2, 1000).to('cuda:0')  # 假设每个样本有 1000 个类别\n",
    "\n",
    "        # 清零梯度\n",
    "        optimizer.zero_grad()\n",
    "\n",
    "        # 正向传播\n",
    "        outputs = model(inputs)\n",
    "\n",
    "        # 计算损失\n",
    "        loss = criterion(outputs, labels)\n",
    "\n",
    "        # 反向传播\n",
    "        loss.backward()\n",
    "\n",
    "        # 更新权重\n",
    "        optimizer.step()\n",
    "\n",
    "        # 打印损失\n",
    "        if i % 10 == 0:\n",
    "            print(f'Epoch {epoch}, Batch {i}, Loss: {loss.item()}')\n",
    "\n"
   ]
  },
  {
   "cell_type": "code",
   "execution_count": null,
   "metadata": {},
   "outputs": [],
   "source": [
    "from models.r2gen import R2GenModel\n",
    "import torch\n",
    "import torch.nn as nn\n",
    "import torch.optim as optim\n",
    "from torch.nn import DataParallel\n",
    "from torch.utils.data import DataLoader\n",
    "import torchvision.models as models\n",
    "import argparse\n",
    "import os\n",
    "os.environ[\"CUDA_VISIBLE_DEVICES\"] = \"0,1\"\n",
    "\n",
    "\n",
    "# 2. 封装模型\n",
    "device_ids = [0, 1]  # 使用编号为 0 和 1 的 GPU 设备\n",
    "model = R2GenModel(0,0)\n",
    "model.cuda()\n",
    "model = DataParallel(model, device_ids=device_ids)\n",
    "\n",
    "# 4. 定义损失函数和优化器\n",
    "criterion = nn.MSELoss()\n",
    "optimizer = optim.SGD(model.parameters(), lr=0.01)\n",
    "\n",
    "# 5. 训练模型\n",
    "for epoch in range(10):  # 迭代 10 次\n",
    "    for i in range(100):  # 每次迭代有 100 个批次\n",
    "        # 生成随机输入数据和标签\n",
    "        inputs = torch.randn(5, 2, 3, 224, 224).to('cuda:0')  # 假设每个批次有 32 个样本，每个样本是 3x224x224 的图像\n",
    "        labels = torch.randn(2, 1000).to('cuda:0')  # 假设每个样本有 1000 个类别\n",
    "\n",
    "        # 清零梯度\n",
    "        optimizer.zero_grad()\n",
    "\n",
    "        # 正向传播\n",
    "        outputs = model(inputs, labels, mode='train')\n",
    "\n",
    "        # 计算损失\n",
    "        loss = criterion(outputs, labels)\n",
    "\n",
    "        # 反向传播\n",
    "        loss.backward()\n",
    "\n",
    "        # 更新权重\n",
    "        optimizer.step()\n",
    "\n",
    "        # 打印损失\n",
    "        if i % 10 == 0:\n",
    "            print(f'Epoch {epoch}, Batch {i}, Loss: {loss.item()}')\n",
    "\n"
   ]
  },
  {
   "cell_type": "code",
   "execution_count": 16,
   "metadata": {},
   "outputs": [
    {
     "name": "stdout",
     "output_type": "stream",
     "text": [
      "Cumulative 1-gram: 0.750000\n",
      "Cumulative 2-gram: 0.500000\n",
      "Cumulative 3-gram: 0.000000\n",
      "Cumulative 4-gram: 0.000000\n"
     ]
    },
    {
     "name": "stderr",
     "output_type": "stream",
     "text": [
      "/home/chenzhixuan/anaconda3/envs/r2gen/lib/python3.9/site-packages/nltk/translate/bleu_score.py:552: UserWarning: \n",
      "The hypothesis contains 0 counts of 3-gram overlaps.\n",
      "Therefore the BLEU score evaluates to 0, independently of\n",
      "how many N-gram overlaps of lower order it contains.\n",
      "Consider using lower n-gram order or use SmoothingFunction()\n",
      "  warnings.warn(_msg)\n",
      "/home/chenzhixuan/anaconda3/envs/r2gen/lib/python3.9/site-packages/nltk/translate/bleu_score.py:552: UserWarning: \n",
      "The hypothesis contains 0 counts of 4-gram overlaps.\n",
      "Therefore the BLEU score evaluates to 0, independently of\n",
      "how many N-gram overlaps of lower order it contains.\n",
      "Consider using lower n-gram order or use SmoothingFunction()\n",
      "  warnings.warn(_msg)\n"
     ]
    }
   ],
   "source": [
    "# cumulative BLEU scores\n",
    "from nltk.translate.bleu_score import sentence_bleu\n",
    "reference = [['this', 'is', 'small', 'test']]\n",
    "candidate = ['this', 'is', 'a', 'test']\n",
    "print('Cumulative 1-gram: %f' % sentence_bleu(reference, candidate, weights=(1, 0, 0, 0)))\n",
    "print('Cumulative 2-gram: %f' % sentence_bleu(reference, candidate, weights=(0.5, 0.5, 0, 0)))\n",
    "print('Cumulative 3-gram: %f' % sentence_bleu(reference, candidate, weights=(0.33, 0.33, 0.33, 0)))\n",
    "print('Cumulative 4-gram: %f' % sentence_bleu(reference, candidate, weights=(0.25, 0.25, 0.25, 0.25)))"
   ]
  },
  {
   "cell_type": "code",
   "execution_count": 26,
   "metadata": {},
   "outputs": [
    {
     "data": {
      "text/plain": [
       "32"
      ]
     },
     "execution_count": 26,
     "metadata": {},
     "output_type": "execute_result"
    }
   ],
   "source": [
    "# 导入模型权重\n",
    "import torch\n",
    "import torch.nn as nn\n",
    "checkpoint = torch.load('/home/chenzhixuan/Workspace/R2Gen/results/CTRG_slice10/model_best.pth')\n",
    "checkpoint['epoch']"
   ]
  },
  {
   "cell_type": "code",
   "execution_count": 1,
   "metadata": {},
   "outputs": [
    {
     "name": "stdout",
     "output_type": "stream",
     "text": [
      "tensor([[1, 2],\n",
      "        [3, 4],\n",
      "        [1, 2],\n",
      "        [3, 4]])\n"
     ]
    }
   ],
   "source": [
    "import torch\n",
    "\n",
    "x = torch.tensor([[1, 2],\n",
    "                  [3, 4]])\n",
    "\n",
    "# 在行维度上重复两次，列维度上重复三次\n",
    "y = x.repeat(2, 1)\n",
    "\n",
    "print(y)"
   ]
  },
  {
   "cell_type": "code",
   "execution_count": null,
   "metadata": {},
   "outputs": [],
   "source": []
  }
 ],
 "metadata": {
  "kernelspec": {
   "display_name": "r2gen",
   "language": "python",
   "name": "python3"
  },
  "language_info": {
   "codemirror_mode": {
    "name": "ipython",
    "version": 3
   },
   "file_extension": ".py",
   "mimetype": "text/x-python",
   "name": "python",
   "nbconvert_exporter": "python",
   "pygments_lexer": "ipython3",
   "version": "3.9.18"
  }
 },
 "nbformat": 4,
 "nbformat_minor": 2
}
