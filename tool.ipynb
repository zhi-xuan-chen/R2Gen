{
 "cells": [
  {
   "cell_type": "code",
   "execution_count": 1,
   "metadata": {},
   "outputs": [
    {
     "name": "stdout",
     "output_type": "stream",
     "text": [
      "在 GPU 5 上占用了 5000MB 的显存。\n"
     ]
    }
   ],
   "source": [
    "import torch\n",
    "\n",
    "def occupy_gpu_memory(device, memory_size):\n",
    "    try:\n",
    "        # 检查指定的显卡是否可用\n",
    "        if torch.cuda.is_available() and device < torch.cuda.device_count():\n",
    "            # 设置当前设备\n",
    "            torch.cuda.set_device(device)\n",
    "            # 创建一个需要占用显存的张量\n",
    "            tensor_size = (memory_size * 1024 * 1024) // 4  # 一个 float32 数值占用 4 字节\n",
    "            tensor = torch.empty(tensor_size).cuda()\n",
    "            print(f\"在 GPU {device} 上占用了 {memory_size}MB 的显存。\")\n",
    "            # 等待停止程序\n",
    "            input(\"按任意键停止程序以释放显存...\")\n",
    "        else:\n",
    "            print(\"指定的显卡不可用或不存在。\")\n",
    "    except RuntimeError as e:\n",
    "        print(\"发生错误:\", e)\n",
    "\n",
    "# 指定要占用显存的显卡索引和显存大小（以MB为单位）\n",
    "gpu_index = 5  # 在第一个显卡上占用显存\n",
    "memory_size = 5000  # 占用500MB的显存\n",
    "\n",
    "# 启动占用显存的程序\n",
    "occupy_gpu_memory(gpu_index, memory_size)"
   ]
  },
  {
   "cell_type": "code",
   "execution_count": null,
   "metadata": {},
   "outputs": [],
   "source": []
  }
 ],
 "metadata": {
  "kernelspec": {
   "display_name": "r2gen",
   "language": "python",
   "name": "python3"
  },
  "language_info": {
   "codemirror_mode": {
    "name": "ipython",
    "version": 3
   },
   "file_extension": ".py",
   "mimetype": "text/x-python",
   "name": "python",
   "nbconvert_exporter": "python",
   "pygments_lexer": "ipython3",
   "version": "3.9.18"
  }
 },
 "nbformat": 4,
 "nbformat_minor": 2
}
